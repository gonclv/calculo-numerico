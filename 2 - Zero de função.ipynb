{
  "nbformat": 4,
  "nbformat_minor": 0,
  "metadata": {
    "colab": {
      "provenance": [],
      "authorship_tag": "ABX9TyPDVSH7IEEQG841/kfzYlob"
    },
    "kernelspec": {
      "name": "python3",
      "display_name": "Python 3"
    },
    "language_info": {
      "name": "python"
    }
  },
  "cells": [
    {
      "cell_type": "code",
      "execution_count": null,
      "metadata": {
        "id": "_27LMOFvZn2K"
      },
      "outputs": [],
      "source": [
        "# Método da Bisseção\n",
        "# se f(a) * f(b) < 0 → b = c\n",
        "# se f(b) * f(b) < 0 → a = c\n",
        "# c = (a + b)/2"
      ]
    },
    {
      "cell_type": "code",
      "source": [
        "def f(x):\n",
        "  y = x*x*x - 5*x*x + 4*x - 20\n",
        "  return y\n",
        "\n",
        "def erro(z):\n",
        "  if z < 0:\n",
        "    z = -z\n",
        "  return z"
      ],
      "metadata": {
        "id": "W6_-MjfFgZ67"
      },
      "execution_count": null,
      "outputs": []
    },
    {
      "cell_type": "code",
      "source": [
        "a = 3\n",
        "b = 6\n",
        "\n",
        "for i in range(0,10):\n",
        "  fa = f(a)\n",
        "  fb = f(b)\n",
        "  c = (b + a)/2\n",
        "  fc = f(c)\n",
        "\n",
        "  if fa * fc < 0:\n",
        "    b = c\n",
        "  else:\n",
        "    a = c\n",
        "    \n",
        "  print(\"a =\", a, \"/ b =\", b)\n",
        "  print(\"Erro =\", erro(a-b))\n",
        "  print(\"===========================\")\n",
        "  if erro(b-a) < 0.05:\n",
        "    print(\"PRONTO\")\n",
        "    break"
      ],
      "metadata": {
        "colab": {
          "base_uri": "https://localhost:8080/"
        },
        "id": "Q0JM9BBDhA7J",
        "outputId": "f1326ef3-65f9-4a0b-a33f-e9fd07c9f200"
      },
      "execution_count": null,
      "outputs": [
        {
          "output_type": "stream",
          "name": "stdout",
          "text": [
            "a = 4.5 / b = 6\n",
            "Erro = 1.5\n",
            "===========================\n",
            "a = 4.5 / b = 5.25\n",
            "Erro = 0.75\n",
            "===========================\n",
            "a = 4.875 / b = 5.25\n",
            "Erro = 0.375\n",
            "===========================\n",
            "a = 4.875 / b = 5.0625\n",
            "Erro = 0.1875\n",
            "===========================\n",
            "a = 4.96875 / b = 5.0625\n",
            "Erro = 0.09375\n",
            "===========================\n",
            "a = 4.96875 / b = 5.015625\n",
            "Erro = 0.046875\n",
            "===========================\n",
            "PRONTO\n"
          ]
        }
      ]
    },
    {
      "cell_type": "code",
      "source": [
        "# Método de Newton Raphson"
      ],
      "metadata": {
        "id": "1LZ7-kO_os4m"
      },
      "execution_count": null,
      "outputs": []
    },
    {
      "cell_type": "code",
      "source": [
        "def f(x):\n",
        "  y = (x-1) * (x-1) * (x-1) * (x-1) * (x-1)\n",
        "  return y\n",
        "\n",
        "def df(x):\n",
        "  derivada = 5 * (x-1) * (x-1) * (x-1) * (x-1)\n",
        "  return derivada"
      ],
      "metadata": {
        "id": "mZ7y8Q5so81O"
      },
      "execution_count": null,
      "outputs": []
    },
    {
      "cell_type": "code",
      "source": [
        "xv = 3\n",
        "\n",
        "for i in range(0,20):\n",
        "  xn = xv - f(xv)/df(xv)\n",
        "  print(xv)\n",
        "  print(xn)\n",
        "  print(erro(xn - xv))\n",
        "  print(\"===========================\")\n",
        "  if erro(xv-xn) < 0.05:\n",
        "    print(\"PRONTO\")\n",
        "    break\n",
        "  xv = xn"
      ],
      "metadata": {
        "colab": {
          "base_uri": "https://localhost:8080/"
        },
        "id": "Il8A_0A7plOR",
        "outputId": "fa6ab0d8-e498-4983-ab5c-1d9a3d8402d3"
      },
      "execution_count": null,
      "outputs": [
        {
          "output_type": "stream",
          "name": "stdout",
          "text": [
            "3\n",
            "2.6\n",
            "0.3999999999999999\n",
            "===========================\n",
            "2.6\n",
            "2.2800000000000002\n",
            "0.31999999999999984\n",
            "===========================\n",
            "2.2800000000000002\n",
            "2.024\n",
            "0.2560000000000002\n",
            "===========================\n",
            "2.024\n",
            "1.8192\n",
            "0.2048000000000001\n",
            "===========================\n",
            "1.8192\n",
            "1.65536\n",
            "0.16383999999999999\n",
            "===========================\n",
            "1.65536\n",
            "1.5242879999999999\n",
            "0.13107200000000008\n",
            "===========================\n",
            "1.5242879999999999\n",
            "1.4194304\n",
            "0.10485759999999988\n",
            "===========================\n",
            "1.4194304\n",
            "1.33554432\n",
            "0.08388608000000009\n",
            "===========================\n",
            "1.33554432\n",
            "1.268435456\n",
            "0.06710886399999993\n",
            "===========================\n",
            "1.268435456\n",
            "1.2147483648\n",
            "0.05368709120000004\n",
            "===========================\n",
            "1.2147483648\n",
            "1.1717986918399999\n",
            "0.042949672960000074\n",
            "===========================\n",
            "PRONTO\n"
          ]
        }
      ]
    },
    {
      "cell_type": "code",
      "source": [
        "import sympy as sym"
      ],
      "metadata": {
        "id": "3GE54v4gsMQq"
      },
      "execution_count": null,
      "outputs": []
    },
    {
      "cell_type": "code",
      "source": [
        "x = sym.symbols('x')"
      ],
      "metadata": {
        "id": "ATSoDjcVsm5K"
      },
      "execution_count": null,
      "outputs": []
    },
    {
      "cell_type": "code",
      "source": [
        "f = x**3 + sym.sin(x**2 + x)\n",
        "f"
      ],
      "metadata": {
        "colab": {
          "base_uri": "https://localhost:8080/",
          "height": 38
        },
        "id": "kv2EKJjBsYGK",
        "outputId": "2528eded-1338-47dc-a784-c5e5932c15cc"
      },
      "execution_count": null,
      "outputs": [
        {
          "output_type": "execute_result",
          "data": {
            "text/plain": [
              "x**3 + sin(x**2 + x)"
            ],
            "text/latex": "$\\displaystyle x^{3} + \\sin{\\left(x^{2} + x \\right)}$"
          },
          "metadata": {},
          "execution_count": 41
        }
      ]
    },
    {
      "cell_type": "code",
      "source": [
        "g = sym.diff(f, x)\n",
        "g"
      ],
      "metadata": {
        "colab": {
          "base_uri": "https://localhost:8080/",
          "height": 38
        },
        "id": "_j-UVY2esqn1",
        "outputId": "311c2829-a2a9-4905-cd56-f829cc222356"
      },
      "execution_count": null,
      "outputs": [
        {
          "output_type": "execute_result",
          "data": {
            "text/plain": [
              "3*x**2 + (2*x + 1)*cos(x**2 + x)"
            ],
            "text/latex": "$\\displaystyle 3 x^{2} + \\left(2 x + 1\\right) \\cos{\\left(x^{2} + x \\right)}$"
          },
          "metadata": {},
          "execution_count": 42
        }
      ]
    }
  ]
}