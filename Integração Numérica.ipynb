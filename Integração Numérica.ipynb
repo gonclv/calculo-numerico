{
  "nbformat": 4,
  "nbformat_minor": 0,
  "metadata": {
    "colab": {
      "provenance": [],
      "authorship_tag": "ABX9TyOjscjSMY3k9RHSqDKP+9um"
    },
    "kernelspec": {
      "name": "python3",
      "display_name": "Python 3"
    },
    "language_info": {
      "name": "python"
    }
  },
  "cells": [
    {
      "cell_type": "code",
      "execution_count": null,
      "metadata": {
        "id": "Ocl8_k5f_xSE"
      },
      "outputs": [],
      "source": [
        "def f(x):\n",
        "  return x**3"
      ]
    },
    {
      "cell_type": "code",
      "source": [
        "def Simpson(a, b, n):\n",
        "  #Atenção: n deve ser par\n",
        "  h = (b - a)/n\n",
        "  soma = 0\n",
        "  soma = f(a)\n",
        "  i = 1\n",
        "  x = a\n",
        "\n",
        "  while i < n:\n",
        "    x = x + h\n",
        "    soma = soma + 4 * f(x)\n",
        "    i = i + 1\n",
        "    x = x + h\n",
        "    soma = soma + 2 * f(x)\n",
        "    i = i + 1\n",
        "\n",
        "  soma = soma + f(b)\n",
        "  return (h * soma)/3"
      ],
      "metadata": {
        "id": "W0SD2n0P_3XF"
      },
      "execution_count": null,
      "outputs": []
    },
    {
      "cell_type": "code",
      "source": [
        "Simpson(0,1,6)"
      ],
      "metadata": {
        "colab": {
          "base_uri": "https://localhost:8080/"
        },
        "id": "UZ4hfVqSCJP8",
        "outputId": "e36b0959-0d3a-47ca-b220-4d6015c90f26"
      },
      "execution_count": null,
      "outputs": [
        {
          "output_type": "execute_result",
          "data": {
            "text/plain": [
              "0.361111111111111"
            ]
          },
          "metadata": {},
          "execution_count": 6
        }
      ]
    },
    {
      "cell_type": "code",
      "source": [
        "import numpy as np"
      ],
      "metadata": {
        "id": "0WQTbJoECuyE"
      },
      "execution_count": null,
      "outputs": []
    },
    {
      "cell_type": "code",
      "source": [
        "def f(x):\n",
        "  return np.sin(x)"
      ],
      "metadata": {
        "id": "Kp5LPKQqCxr8"
      },
      "execution_count": null,
      "outputs": []
    },
    {
      "cell_type": "code",
      "source": [
        "Simpson(0,np.pi,6)"
      ],
      "metadata": {
        "colab": {
          "base_uri": "https://localhost:8080/"
        },
        "id": "Ha8-jxKtC5ur",
        "outputId": "8fe14437-781f-4a28-e4c1-0edf45833a40"
      },
      "execution_count": null,
      "outputs": [
        {
          "output_type": "execute_result",
          "data": {
            "text/plain": [
              "2.0008631896735367"
            ]
          },
          "metadata": {},
          "execution_count": 10
        }
      ]
    }
  ]
}