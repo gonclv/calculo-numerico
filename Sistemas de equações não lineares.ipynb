{
  "nbformat": 4,
  "nbformat_minor": 0,
  "metadata": {
    "colab": {
      "provenance": [],
      "authorship_tag": "ABX9TyO42/KAF5FOqDJone/l662t"
    },
    "kernelspec": {
      "name": "python3",
      "display_name": "Python 3"
    },
    "language_info": {
      "name": "python"
    }
  },
  "cells": [
    {
      "cell_type": "code",
      "source": [
        "# Método de Newton"
      ],
      "metadata": {
        "id": "It_BA96AlJ-Y"
      },
      "execution_count": null,
      "outputs": []
    },
    {
      "cell_type": "code",
      "source": [
        "# Encontrar x e y das equações\n",
        "# y = x^2\n",
        "# x^2 + y^2 = 9"
      ],
      "metadata": {
        "id": "Uw9wP51Uo27X"
      },
      "execution_count": null,
      "outputs": []
    },
    {
      "cell_type": "code",
      "execution_count": null,
      "metadata": {
        "id": "8fQ2ppLBhyVu"
      },
      "outputs": [],
      "source": [
        "import numpy as np\n",
        "import matplotlib.pyplot as plt"
      ]
    },
    {
      "cell_type": "code",
      "source": [
        "def f(X):\n",
        "  F = np.zeros(2); #criar um vetor de dimensão 2\n",
        "  F[0] = X[1] - X[0]**2\n",
        "  F[1] = X[0]**2 + X[1]**2 - 9\n",
        "  return F"
      ],
      "metadata": {
        "id": "j_zdrcz9iPKC"
      },
      "execution_count": null,
      "outputs": []
    },
    {
      "cell_type": "code",
      "source": [
        "def jacobiana(X):\n",
        "  df = np.zeros((2,2))\n",
        "  df[0][0] = -2*X[0]\n",
        "  df[0][1] = 1\n",
        "  df[1][0] = 2*X[0]\n",
        "  df[1][1] = 2*X[1]\n",
        "  return df"
      ],
      "metadata": {
        "id": "HnqWYYIqkLY5"
      },
      "execution_count": null,
      "outputs": []
    },
    {
      "cell_type": "code",
      "source": [
        "XV = np.zeros(2)\n",
        "XV[0] = 1\n",
        "XV[1] = 0\n",
        "i = 0\n",
        "while i < 10:\n",
        "  FF = f(XV)\n",
        "  JJ = jacobiana(XV)\n",
        "  JJin = np.linalg.inv(JJ)\n",
        "  XN = XV - np.dot(JJin, FF)\n",
        "  XV = XN\n",
        "  i = i + 1\n",
        "  print(XV)"
      ],
      "metadata": {
        "colab": {
          "base_uri": "https://localhost:8080/"
        },
        "id": "-IeihYTKlKE6",
        "outputId": "cf738be5-35a0-4326-9968-a7b5842b3ecd"
      },
      "execution_count": null,
      "outputs": [
        {
          "output_type": "stream",
          "name": "stdout",
          "text": [
            "[5. 9.]\n",
            "[2.97368421 4.73684211]\n",
            "[1.9915337  3.00158688]\n",
            "[1.64140573 2.57162316]\n",
            "[1.59489601 2.54153014]\n",
            "[1.59417119 2.54138127]\n",
            "[1.59417103 2.54138127]\n",
            "[1.59417103 2.54138127]\n",
            "[1.59417103 2.54138127]\n",
            "[1.59417103 2.54138127]\n"
          ]
        }
      ]
    },
    {
      "cell_type": "code",
      "source": [
        "f(XV)"
      ],
      "metadata": {
        "colab": {
          "base_uri": "https://localhost:8080/"
        },
        "id": "F9C-qBhZqzTq",
        "outputId": "b2aa52fb-ef22-4331-98f5-932f40f8782f"
      },
      "execution_count": null,
      "outputs": [
        {
          "output_type": "execute_result",
          "data": {
            "text/plain": [
              "array([4.44089210e-16, 1.77635684e-15])"
            ]
          },
          "metadata": {},
          "execution_count": 8
        }
      ]
    },
    {
      "cell_type": "code",
      "source": [
        "# Newton modificado"
      ],
      "metadata": {
        "id": "MQZqT1D4p8lu"
      },
      "execution_count": null,
      "outputs": []
    },
    {
      "cell_type": "code",
      "source": [
        "XV = np.zeros(2)\n",
        "S = np.zeros(2)\n",
        "XV[0] = 1\n",
        "XV[1] = 1\n",
        "i = 0\n",
        "while i < 10:\n",
        "  F = f(XV)\n",
        "  f0 = F[0]\n",
        "  f1 = f[1]\n",
        "  J = jacobiana(XV)\n",
        "  a = J[0][0]\n",
        "  b = J[0][1]\n",
        "  c = J[1][0]\n",
        "  d = J[1][1]\n",
        "  "
      ],
      "metadata": {
        "id": "vJbnEqF9rQq4"
      },
      "execution_count": null,
      "outputs": []
    }
  ]
}