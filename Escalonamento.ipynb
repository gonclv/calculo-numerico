{
  "nbformat": 4,
  "nbformat_minor": 0,
  "metadata": {
    "colab": {
      "provenance": [],
      "authorship_tag": "ABX9TyNFrYjW6jHtSTZuGWMQ2MpD"
    },
    "kernelspec": {
      "name": "python3",
      "display_name": "Python 3"
    },
    "language_info": {
      "name": "python"
    }
  },
  "cells": [
    {
      "cell_type": "code",
      "execution_count": null,
      "metadata": {
        "id": "tRHjPJJXeXZ4"
      },
      "outputs": [],
      "source": [
        "from sympy import *"
      ]
    },
    {
      "cell_type": "code",
      "source": [
        "#Sistema possivel e determinado\n",
        "M = Matrix([[14, 0, 11, 3], [22, 2, 4, 7], [-12, -34, -3, -4]])\n",
        "print(\"Matrix: {}\".format(M))\n",
        "\n",
        "M_rref = M.rref()\n",
        "\n",
        "print(\"Matriz na forma escada e coluna de pivôs: {}\".format(M_rref))"
      ],
      "metadata": {
        "colab": {
          "base_uri": "https://localhost:8080/"
        },
        "id": "EAtv7Ms4k4-_",
        "outputId": "628c5268-108e-4e8a-d4a0-8e0804d885de"
      },
      "execution_count": null,
      "outputs": [
        {
          "output_type": "stream",
          "name": "stdout",
          "text": [
            "Matrix: Matrix([[14, 0, 11, 3], [22, 2, 4, 7], [-12, -34, -3, -4]])\n",
            "Matriz na forma escada e coluna de pivôs: (Matrix([\n",
            "[1, 0, 0, 535/1536],\n",
            "[0, 1, 0,    5/512],\n",
            "[0, 0, 1, -131/768]]), (0, 1, 2))\n"
          ]
        }
      ]
    },
    {
      "cell_type": "code",
      "source": [
        "#Sistema possivel e indeterminado\n",
        "M = Matrix([[14, 0, 11, 3], [22, 2, 4, 7]])\n",
        "print(\"Matrix: {}\".format(M))\n",
        "\n",
        "M_rref = M.rref()\n",
        "\n",
        "print(\"Matriz na forma escada e coluna de pivôs: {}\".format(M_rref))"
      ],
      "metadata": {
        "colab": {
          "base_uri": "https://localhost:8080/"
        },
        "id": "b4zXpk-Ymx69",
        "outputId": "abf582c8-27f8-4b74-947a-ba4f21a4f273"
      },
      "execution_count": null,
      "outputs": [
        {
          "output_type": "stream",
          "name": "stdout",
          "text": [
            "Matrix: Matrix([[14, 0, 11, 3], [22, 2, 4, 7]])\n",
            "Matriz na forma escada e coluna de pivôs: (Matrix([\n",
            "[1, 0,  11/14, 3/14],\n",
            "[0, 1, -93/14,  8/7]]), (0, 1))\n"
          ]
        }
      ]
    },
    {
      "cell_type": "code",
      "source": [
        "#Sistema impossível\n",
        "M = Matrix([[2, -3, 4], [6, -9, 11]])\n",
        "print(\"Matrix: {}\".format(M))\n",
        "\n",
        "M_rref = M.rref()\n",
        "\n",
        "print(\"Matriz na forma escada e coluna de pivôs: {}\".format(M_rref))"
      ],
      "metadata": {
        "colab": {
          "base_uri": "https://localhost:8080/"
        },
        "id": "CKJjhSddo5tU",
        "outputId": "981e912c-ea51-44be-b62f-66cce3b2da1f"
      },
      "execution_count": null,
      "outputs": [
        {
          "output_type": "stream",
          "name": "stdout",
          "text": [
            "Matrix: Matrix([[2, -3, 4], [6, -9, 11]])\n",
            "Matriz na forma escada e coluna de pivôs: (Matrix([\n",
            "[1, -3/2, 0],\n",
            "[0,    0, 1]]), (0, 2))\n"
          ]
        }
      ]
    },
    {
      "cell_type": "code",
      "source": [
        "M = Matrix([[1, 0, 3, -8], [2, -4, 0, -4], [3, -2, -5, 26]])\n",
        "print(\"Matrix: {}\".format(M))\n",
        "\n",
        "M_rref = M.rref()\n",
        "\n",
        "print(\"Matriz na forma escada e coluna de pivôs: {}\".format(M_rref))"
      ],
      "metadata": {
        "colab": {
          "base_uri": "https://localhost:8080/"
        },
        "id": "RAsXD1vLqVoS",
        "outputId": "0c566976-7236-4572-cf5d-0e7148579e0b"
      },
      "execution_count": null,
      "outputs": [
        {
          "output_type": "stream",
          "name": "stdout",
          "text": [
            "Matrix: Matrix([[1, 0, 3, -8], [2, -4, 0, -4], [3, -2, -5, 26]])\n",
            "Matriz na forma escada e coluna de pivôs: (Matrix([\n",
            "[1, 0, 0,  4],\n",
            "[0, 1, 0,  3],\n",
            "[0, 0, 1, -4]]), (0, 1, 2))\n"
          ]
        }
      ]
    }
  ]
}
